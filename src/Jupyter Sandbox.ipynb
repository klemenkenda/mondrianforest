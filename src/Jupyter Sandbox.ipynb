{
 "cells": [
  {
   "cell_type": "code",
   "execution_count": null,
   "metadata": {
    "collapsed": true
   },
   "outputs": [],
   "source": [
    "import numpy as np\n",
    "import pprint as pp     # pretty printing module\n",
    "from matplotlib import pyplot as plt        # required only for plotting results\n",
    "from mondrianforest_utils import load_data, reset_random_seed, precompute_minimal \n",
    "from mondrianforest import process_command_line, MondrianForest"
   ]
  },
  {
   "cell_type": "code",
   "execution_count": null,
   "metadata": {},
   "outputs": [],
   "source": [
    "# ./mondrianforest_demo.py --dataset satimage --n_mondrians 100 --budget -1 \n",
    "#    --normalize_features 1 --save 1 --data_path ../process_data/ --n_minibatches 10 \n",
    "#    --store_every 1 --optype class\n",
    "\n",
    "class settings:\n",
    "    alpha = 0\n",
    "    bagging = 0\n",
    "    budget= -1.0\n",
    "    budget_to_use= float(\"inf\")\n",
    "    data_path = 'C:\\\\Users\\\\kkenda\\\\Desktop\\\\moa\\\\moa\\\\src\\\\examples\\\\java\\\\moa\\\\experiments\\\\data/'\n",
    "    dataset = 'id12041022_1_AR_WF_DT.arff'\n",
    "    debug = 0\n",
    "    discount_factor = 10\n",
    "    draw_mondrian = 0\n",
    "    init_id = 1\n",
    "    min_samples_split = 2\n",
    "    n_minibatches = 4000\n",
    "    n_mondrians = 10\n",
    "    name_metric = 'mse'\n",
    "    normalize_features = 1\n",
    "    op_dir = 'results'\n",
    "    optype = 'real'\n",
    "    perf_dataset_keys = ['train', 'test']\n",
    "    perf_metrics_keys = ['log_prob', 'acc']\n",
    "    perf_store_keys = ['pred_prob']\n",
    "    save = 1\n",
    "    select_features = 0\n",
    "    smooth_hierarchically = 0\n",
    "    store_every = 0\n",
    "    tag = ''\n",
    "    verbose = 1\n",
    "  "
   ]
  },
  {
   "cell_type": "code",
   "execution_count": null,
   "metadata": {},
   "outputs": [],
   "source": [
    "data = load_data(settings)"
   ]
  },
  {
   "cell_type": "code",
   "execution_count": null,
   "metadata": {},
   "outputs": [],
   "source": [
    "param, cache = precompute_minimal(data, settings)\n",
    "mf = MondrianForest(settings, data)\n"
   ]
  },
  {
   "cell_type": "code",
   "execution_count": null,
   "metadata": {},
   "outputs": [],
   "source": [
    "print '\\nminibatch\\tmetric_train\\tmetric_test\\tnum_leaves'\n",
    "\n",
    "#for idx_minibatch in range(settings.n_minibatches):\n",
    "for idx_minibatch in range(50):\n",
    "    train_ids_current_minibatch = data['train_ids_partition']['current'][idx_minibatch]\n",
    "        \n",
    "    if idx_minibatch == 0:\n",
    "        with open(settings.data_path + settings.dataset + '.csv', 'w') as f:\n",
    "            f.write(\"target;prediction\\n\")\n",
    "        print(\"Training 0 batch\", len(train_ids_current_minibatch))\n",
    "        # Batch training for first minibatch\n",
    "        mf.fit(data, train_ids_current_minibatch, settings, param, cache)\n",
    "    else:\n",
    "        print('Evaluation on batch', idx_minibatch)\n",
    "        results = mf.evaluate_predictions(data, data['x_train'][train_ids_current_minibatch], data['y_train'][train_ids_current_minibatch], settings, param, weights_prediction, True)\n",
    "        # prediction\n",
    "        predictions = results[0]['pred_mean']\n",
    "        real = data['y_train'][train_ids_current_minibatch].flatten()\n",
    "        for i in range(len(predictions)):\n",
    "            print(i, predictions[i], real[i])\n",
    "            with open(settings.data_path + settings.dataset + '.csv', 'a') as f:\n",
    "                f.write(\"{0},{1}\\n\".format(real[i], predictions[i]))        \n",
    "        \n",
    "        print(\"Training on next batch \", idx_minibatch, len(train_ids_current_minibatch))\n",
    "        # Online update\n",
    "        mf.partial_fit(data, train_ids_current_minibatch, settings, param, cache)\n",
    "    print(\"Finished training ...\")\n",
    "    # Evaluate\n",
    "    weights_prediction = np.ones(settings.n_mondrians) * 1.0 / settings.n_mondrians\n",
    "    train_ids_cumulative = data['train_ids_partition']['cumulative'][idx_minibatch]        \n",
    "    \n",
    "    \n",
    "    "
   ]
  },
  {
   "cell_type": "code",
   "execution_count": null,
   "metadata": {
    "collapsed": true
   },
   "outputs": [],
   "source": [
    "train_ids_current_minibatch = data['train_ids_partition']['current'][5]"
   ]
  },
  {
   "cell_type": "code",
   "execution_count": null,
   "metadata": {},
   "outputs": [],
   "source": [
    "results = mf.evaluate_predictions(data, data['x_train'][train_ids_current_minibatch], data['y_train'][train_ids_current_minibatch], settings, param, weights_prediction, True)"
   ]
  },
  {
   "cell_type": "code",
   "execution_count": null,
   "metadata": {},
   "outputs": [],
   "source": [
    "predictions = results[0]['pred_mean']"
   ]
  },
  {
   "cell_type": "code",
   "execution_count": null,
   "metadata": {},
   "outputs": [],
   "source": [
    "for i in range(len(predictions)):\n",
    "    print(i, predictions[i], real[i])"
   ]
  },
  {
   "cell_type": "code",
   "execution_count": null,
   "metadata": {},
   "outputs": [],
   "source": [
    "real = data['y_train'][train_ids_current_minibatch].flatten()"
   ]
  },
  {
   "cell_type": "code",
   "execution_count": null,
   "metadata": {},
   "outputs": [],
   "source": [
    "data['x_train'][train_ids_current_minibatch]"
   ]
  },
  {
   "cell_type": "code",
   "execution_count": null,
   "metadata": {},
   "outputs": [],
   "source": [
    "data['x_test']"
   ]
  },
  {
   "cell_type": "code",
   "execution_count": null,
   "metadata": {
    "collapsed": true
   },
   "outputs": [],
   "source": []
  }
 ],
 "metadata": {
  "kernelspec": {
   "display_name": "Python 2",
   "language": "python",
   "name": "python2"
  },
  "language_info": {
   "codemirror_mode": {
    "name": "ipython",
    "version": 2
   },
   "file_extension": ".py",
   "mimetype": "text/x-python",
   "name": "python",
   "nbconvert_exporter": "python",
   "pygments_lexer": "ipython2",
   "version": "2.7.13"
  }
 },
 "nbformat": 4,
 "nbformat_minor": 2
}
