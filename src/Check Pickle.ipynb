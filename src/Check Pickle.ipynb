{
 "cells": [
  {
   "cell_type": "code",
   "execution_count": 1,
   "metadata": {
    "collapsed": true
   },
   "outputs": [],
   "source": [
    "# imports\n",
    "import numpy as np\n",
    "import pickle as pkl"
   ]
  },
  {
   "cell_type": "code",
   "execution_count": 7,
   "metadata": {},
   "outputs": [
    {
     "data": {
      "text/plain": [
       "{'is_sparse': False,\n",
       " 'n_class': 10,\n",
       " 'n_dim': 256L,\n",
       " 'n_test': 2007L,\n",
       " 'n_train': 7291L,\n",
       " 'x_test': array([[-0.999999, -0.999928, -0.997885, ..., -0.999997, -1.      , -1.      ],\n",
       "        [-1.      , -0.999997, -0.999814, ..., -0.999798, -0.999981,\n",
       "         -0.999999],\n",
       "        [-0.998108, -0.96389 , -0.767366, ..., -0.917685, -0.988326,\n",
       "         -0.999421],\n",
       "        ..., \n",
       "        [-0.999985, -0.998547, -0.966704, ..., -1.      , -1.      , -1.      ],\n",
       "        [-0.999889, -0.996943, -0.962894, ..., -0.998277, -0.999924,\n",
       "         -0.999998],\n",
       "        [-1.      , -1.      , -1.      , ..., -0.999995, -1.      , -1.      ]]),\n",
       " 'x_train': array([[-1.      , -1.      , -1.      , ..., -0.988672, -0.999475,\n",
       "         -0.999994],\n",
       "        [-0.999927, -0.993644, -0.900309, ..., -0.32939 , -0.584681,\n",
       "         -0.868793],\n",
       "        [-1.      , -1.      , -1.      , ..., -0.988116, -0.999864, -1.      ],\n",
       "        ..., \n",
       "        [-0.998491, -0.971247, -0.824413, ..., -0.99315 , -0.999791,\n",
       "         -0.999998],\n",
       "        [-0.999999, -0.999893, -0.995429, ..., -0.942224, -0.985542,\n",
       "         -0.996327],\n",
       "        [-1.      , -1.      , -0.999874, ..., -1.      , -1.      , -1.      ]]),\n",
       " 'y_test': array([9, 6, 3, ..., 4, 0, 1]),\n",
       " 'y_train': array([6, 5, 4, ..., 3, 0, 1])}"
      ]
     },
     "execution_count": 7,
     "metadata": {},
     "output_type": "execute_result"
    }
   ],
   "source": [
    "pkl.load(open('../process_data/usps/usps.p', 'rb'))"
   ]
  },
  {
   "cell_type": "code",
   "execution_count": null,
   "metadata": {
    "collapsed": true
   },
   "outputs": [],
   "source": []
  }
 ],
 "metadata": {
  "kernelspec": {
   "display_name": "Python 2",
   "language": "python",
   "name": "python2"
  },
  "language_info": {
   "codemirror_mode": {
    "name": "ipython",
    "version": 2
   },
   "file_extension": ".py",
   "mimetype": "text/x-python",
   "name": "python",
   "nbconvert_exporter": "python",
   "pygments_lexer": "ipython2",
   "version": "2.7.13"
  }
 },
 "nbformat": 4,
 "nbformat_minor": 2
}
